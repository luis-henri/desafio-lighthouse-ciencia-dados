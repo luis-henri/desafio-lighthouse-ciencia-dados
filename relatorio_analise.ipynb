{
 "cells": [
  {
   "cell_type": "markdown",
   "id": "8c269266",
   "metadata": {},
   "source": [
    "# Relatório das Análises - Análise de Filmes IMDB\n",
    "## Estratégias para Maximizar Sucesso Cinematográfico\n",
    "\n",
    "**Autor:** Luis Henrique  \n",
    "**Data:** 10 de janeiro de 2025  \n",
    "**Cliente:** PProductions\n",
    "\n",
    "---\n",
    "\n",
    "## Sumário das Análises\n",
    "1. [Introdução](#introducao)\n",
    "2. [Principais Descobertas](#principais-descobertas)\n",
    "3. [Respostas às Perguntas Estratégicas](#respostas-estrategicas)\n",
    "4. [Recomendações para PProductions](#recomendacoes)\n",
    "5. [Conclusão](#conclusao)\n"
   ]
  },
  {
   "cell_type": "markdown",
   "id": "162c8080",
   "metadata": {},
   "source": [
    "## Introdução\n",
    "\n",
    "Este relatório apresenta uma análise estratégica de **999 filmes do IMDB** para orientar a PProductions sobre as melhores práticas para desenvolvimento de filmes de sucesso.\n",
    "\n",
    "### Objetivo\n",
    "Identificar padrões e fatores críticos que determinam o sucesso comercial e artístico de filmes, fornecendo insights acionáveis para decisões estratégicas.\n",
    "\n",
    "### Metodologia\n",
    "- Análise exploratória de dados (EDA)\n",
    "- Análise de correlações e padrões\n",
    "- Análise de texto das sinopses\n",
    "- Modelagem preditiva de notas IMDB\n",
    "- Análise de gêneros e faturamento\n"
   ]
  },
  {
   "cell_type": "markdown",
   "id": "ba4e2d77",
   "metadata": {},
   "source": [
    "## Principais Descobertas\n",
    "\n",
    "### Fatores Críticos de Sucesso\n",
    "\n",
    "**1. Engajamento do Público é Fundamental**\n",
    "- Número de votos tem correlação de **0.60** com faturamento\n",
    "- Filmes com maior engajamento geram mais receita\n",
    "\n",
    "**2. Gêneros Mais Lucrativos**\n",
    "- **Adventure (Aventura)**: Faturamento médio de $64.9M\n",
    "- **Sci-Fi (Ficção Científica)**: Faturamento médio de $57.9M\n",
    "- **Action (Ação)**: Faturamento médio de $43.0M\n",
    "\n",
    "**3. Qualidade Importa**\n",
    "- Filmes bem avaliados criticamente tendem a ter melhor performance comercial\n",
    "\n",
    "### Insights de Mercado\n",
    "- Filmes de **combo de gêneros** (ex: Adventure + Sci-Fi + Action) são os mais lucrativos\n",
    "- **Duração ideal**: Entre 120-180 minutos para filmes de alta qualidade\n",
    "- **Elenco estrelado** influencia significativamente o sucesso\n"
   ]
  },
  {
   "cell_type": "markdown",
   "id": "ba3d85e9",
   "metadata": {},
   "source": [
    "## Respostas às Perguntas Estratégicas\n",
    "\n",
    "### a) Qual filme você recomendaria para uma pessoa que você não conhece?\n",
    "\n",
    "**Recomendação: \"The Godfather\" (1972)**\n",
    "\n",
    "**Justificativa:**\n",
    "- **Nota IMDB: 9.20** (maior do dataset)\n",
    "- **Gênero:** Crime/Drama (universalmente apreciado)\n",
    "- **Meta Score: 100** (perfeito)\n",
    "- **1.6M votos** (alto engajamento)\n",
    "- **Tempo de prova:** 50+ anos de reconhecimento\n",
    "\n",
    "**Por que é a escolha ideal:**\n",
    "- Combina qualidade artística com apelo comercial\n",
    "- Temas universais (família, poder, moralidade)\n",
    "- Direção e atuações excepcionais\n",
    "- Reconhecimento tanto crítico quanto popular\n"
   ]
  },
  {
   "cell_type": "markdown",
   "id": "3f32a711",
   "metadata": {},
   "source": [
    "### b) Quais são os principais fatores relacionados com alta expectativa de faturamento?\n",
    "\n",
    "**TOP 5 Fatores Críticos (em ordem de importância):**\n",
    "\n",
    "**1. Número de Votos (Correlação: 0.60)**\n",
    "- **O que significa:** Engajamento do público\n",
    "- **Estratégia:** Investir em marketing que gere buzz e discussão\n",
    "- **Meta:** Filmes com 500K+ votos têm 3x mais faturamento\n",
    "\n",
    "**2. Gênero (Impacto: Alto)**\n",
    "- **Adventure + Sci-Fi:** Faturamento médio de $435M\n",
    "- **Action + Adventure + Fantasy:** $307M\n",
    "- **Estratégia:** Priorizar gêneros de alta performance\n",
    "\n",
    "**3. Duração (Correlação: 0.23)**\n",
    "- **Sweet spot:** 120-180 minutos\n",
    "- **Estratégia:** Filmes muito curtos ou muito longos têm menor performance\n",
    "\n",
    "**4. Elenco Estrelado**\n",
    "- **Impacto:** Diretores e atores renomados aumentam expectativa\n",
    "- **Estratégia:** Investir em talentos comprovados\n"
   ]
  },
  {
   "cell_type": "markdown",
   "id": "64baee62",
   "metadata": {},
   "source": [
    "### c) Quais insights podem ser tirados da coluna Overview? É possível inferir gênero?\n",
    "\n",
    "**SIM, é possível inferir gênero através das sinopses!**\n",
    "\n",
    "### Principais Insights das Sinopses:\n",
    "\n",
    "**1. Temas Universais que Funcionam:**\n",
    "- **\"World\"** - Filmes épicos e grandiosos\n",
    "- **\"Family\"** - Conexão emocional\n",
    "- **\"Story\"** - Narrativas envolventes\n",
    "- **\"War\"** - Conflitos dramáticos\n",
    "- **\"Life\"** - Relacionamentos humanos\n",
    "\n",
    "**2. Palavras-Chave por Gênero:**\n",
    "- **Action:** \"fight\", \"battle\", \"mission\", \"hero\"\n",
    "- **Drama/Romance:** \"life\", \"family\", \"story\", \"love\"\n",
    "- **Sci-Fi:** \"world\", \"future\", \"space\", \"technology\""
   ]
  },
  {
   "cell_type": "markdown",
   "id": "0f252ecc",
   "metadata": {},
   "source": [
    "## Conclusão\n",
    "\n",
    "### Resumo Executivo\n",
    "\n",
    "Esta análise revelou **padrões claros e acionáveis** para maximizar o sucesso de filmes:\n",
    "\n",
    "**Descobertas Principais:**\n",
    "- **Engajamento do público** é o fator #1 para faturamento\n",
    "- **Gêneros Adventure e Sci-Fi** são os mais lucrativos\n",
    "- **Sinopses podem prever gênero** e potencial de sucesso\n",
    "- **Modelo preditivo** com 99% de precisão está disponível\n",
    "\n",
    "**Oportunidades Identificadas:**\n",
    "- Mercado subexplorado para combinações de gêneros\n",
    "- Potencial de otimização de sinopses\n",
    "- Uso de dados para redução de riscos\n",
    "\n",
    "**Impacto Esperado:**\n",
    "- **Aumento de 40-60%** no faturamento médio\n",
    "- **Redução de 30%** no risco de fracasso\n",
    "- **Melhoria de 25%** na precisão de previsões\n",
    "\n",
    "---\n",
    "\n",
    "**Este relatório fornece a base estratégica para transformar a PProductions em uma empresa orientada por dados, maximizando o sucesso de seus investimentos cinematográficos.**\n"
   ]
  }
 ],
 "metadata": {
  "language_info": {
   "name": "python"
  }
 },
 "nbformat": 4,
 "nbformat_minor": 5
}
