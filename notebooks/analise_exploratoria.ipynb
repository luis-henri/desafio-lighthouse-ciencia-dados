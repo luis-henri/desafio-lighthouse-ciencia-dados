{
 "cells": [
  {
   "cell_type": "code",
   "execution_count": 36,
   "id": "d1aec94e",
   "metadata": {},
   "outputs": [
    {
     "name": "stdout",
     "output_type": "stream",
     "text": [
      "csv lido!\n"
     ]
    }
   ],
   "source": [
    "import pandas as pd\n",
    "\n",
    "df = pd.read_csv('../data/desafio_indicium_imdb.csv')\n",
    "\n",
    "print('csv lido!')"
   ]
  },
  {
   "cell_type": "code",
   "execution_count": 37,
   "id": "e2f32102",
   "metadata": {},
   "outputs": [
    {
     "data": {
      "text/html": [
       "<div>\n",
       "<style scoped>\n",
       "    .dataframe tbody tr th:only-of-type {\n",
       "        vertical-align: middle;\n",
       "    }\n",
       "\n",
       "    .dataframe tbody tr th {\n",
       "        vertical-align: top;\n",
       "    }\n",
       "\n",
       "    .dataframe thead th {\n",
       "        text-align: right;\n",
       "    }\n",
       "</style>\n",
       "<table border=\"1\" class=\"dataframe\">\n",
       "  <thead>\n",
       "    <tr style=\"text-align: right;\">\n",
       "      <th></th>\n",
       "      <th>Unnamed: 0</th>\n",
       "      <th>Series_Title</th>\n",
       "      <th>Released_Year</th>\n",
       "      <th>Certificate</th>\n",
       "      <th>Runtime</th>\n",
       "      <th>Genre</th>\n",
       "      <th>IMDB_Rating</th>\n",
       "      <th>Overview</th>\n",
       "      <th>Meta_score</th>\n",
       "      <th>Director</th>\n",
       "      <th>Star1</th>\n",
       "      <th>Star2</th>\n",
       "      <th>Star3</th>\n",
       "      <th>Star4</th>\n",
       "      <th>No_of_Votes</th>\n",
       "      <th>Gross</th>\n",
       "    </tr>\n",
       "  </thead>\n",
       "  <tbody>\n",
       "    <tr>\n",
       "      <th>0</th>\n",
       "      <td>1</td>\n",
       "      <td>The Godfather</td>\n",
       "      <td>1972</td>\n",
       "      <td>A</td>\n",
       "      <td>175 min</td>\n",
       "      <td>Crime, Drama</td>\n",
       "      <td>9.2</td>\n",
       "      <td>An organized crime dynasty's aging patriarch t...</td>\n",
       "      <td>100.0</td>\n",
       "      <td>Francis Ford Coppola</td>\n",
       "      <td>Marlon Brando</td>\n",
       "      <td>Al Pacino</td>\n",
       "      <td>James Caan</td>\n",
       "      <td>Diane Keaton</td>\n",
       "      <td>1620367</td>\n",
       "      <td>134,966,411</td>\n",
       "    </tr>\n",
       "    <tr>\n",
       "      <th>1</th>\n",
       "      <td>2</td>\n",
       "      <td>The Dark Knight</td>\n",
       "      <td>2008</td>\n",
       "      <td>UA</td>\n",
       "      <td>152 min</td>\n",
       "      <td>Action, Crime, Drama</td>\n",
       "      <td>9.0</td>\n",
       "      <td>When the menace known as the Joker wreaks havo...</td>\n",
       "      <td>84.0</td>\n",
       "      <td>Christopher Nolan</td>\n",
       "      <td>Christian Bale</td>\n",
       "      <td>Heath Ledger</td>\n",
       "      <td>Aaron Eckhart</td>\n",
       "      <td>Michael Caine</td>\n",
       "      <td>2303232</td>\n",
       "      <td>534,858,444</td>\n",
       "    </tr>\n",
       "    <tr>\n",
       "      <th>2</th>\n",
       "      <td>3</td>\n",
       "      <td>The Godfather: Part II</td>\n",
       "      <td>1974</td>\n",
       "      <td>A</td>\n",
       "      <td>202 min</td>\n",
       "      <td>Crime, Drama</td>\n",
       "      <td>9.0</td>\n",
       "      <td>The early life and career of Vito Corleone in ...</td>\n",
       "      <td>90.0</td>\n",
       "      <td>Francis Ford Coppola</td>\n",
       "      <td>Al Pacino</td>\n",
       "      <td>Robert De Niro</td>\n",
       "      <td>Robert Duvall</td>\n",
       "      <td>Diane Keaton</td>\n",
       "      <td>1129952</td>\n",
       "      <td>57,300,000</td>\n",
       "    </tr>\n",
       "    <tr>\n",
       "      <th>3</th>\n",
       "      <td>4</td>\n",
       "      <td>12 Angry Men</td>\n",
       "      <td>1957</td>\n",
       "      <td>U</td>\n",
       "      <td>96 min</td>\n",
       "      <td>Crime, Drama</td>\n",
       "      <td>9.0</td>\n",
       "      <td>A jury holdout attempts to prevent a miscarria...</td>\n",
       "      <td>96.0</td>\n",
       "      <td>Sidney Lumet</td>\n",
       "      <td>Henry Fonda</td>\n",
       "      <td>Lee J. Cobb</td>\n",
       "      <td>Martin Balsam</td>\n",
       "      <td>John Fiedler</td>\n",
       "      <td>689845</td>\n",
       "      <td>4,360,000</td>\n",
       "    </tr>\n",
       "    <tr>\n",
       "      <th>4</th>\n",
       "      <td>5</td>\n",
       "      <td>The Lord of the Rings: The Return of the King</td>\n",
       "      <td>2003</td>\n",
       "      <td>U</td>\n",
       "      <td>201 min</td>\n",
       "      <td>Action, Adventure, Drama</td>\n",
       "      <td>8.9</td>\n",
       "      <td>Gandalf and Aragorn lead the World of Men agai...</td>\n",
       "      <td>94.0</td>\n",
       "      <td>Peter Jackson</td>\n",
       "      <td>Elijah Wood</td>\n",
       "      <td>Viggo Mortensen</td>\n",
       "      <td>Ian McKellen</td>\n",
       "      <td>Orlando Bloom</td>\n",
       "      <td>1642758</td>\n",
       "      <td>377,845,905</td>\n",
       "    </tr>\n",
       "  </tbody>\n",
       "</table>\n",
       "</div>"
      ],
      "text/plain": [
       "   Unnamed: 0                                   Series_Title Released_Year  \\\n",
       "0           1                                  The Godfather          1972   \n",
       "1           2                                The Dark Knight          2008   \n",
       "2           3                         The Godfather: Part II          1974   \n",
       "3           4                                   12 Angry Men          1957   \n",
       "4           5  The Lord of the Rings: The Return of the King          2003   \n",
       "\n",
       "  Certificate  Runtime                     Genre  IMDB_Rating  \\\n",
       "0           A  175 min              Crime, Drama          9.2   \n",
       "1          UA  152 min      Action, Crime, Drama          9.0   \n",
       "2           A  202 min              Crime, Drama          9.0   \n",
       "3           U   96 min              Crime, Drama          9.0   \n",
       "4           U  201 min  Action, Adventure, Drama          8.9   \n",
       "\n",
       "                                            Overview  Meta_score  \\\n",
       "0  An organized crime dynasty's aging patriarch t...       100.0   \n",
       "1  When the menace known as the Joker wreaks havo...        84.0   \n",
       "2  The early life and career of Vito Corleone in ...        90.0   \n",
       "3  A jury holdout attempts to prevent a miscarria...        96.0   \n",
       "4  Gandalf and Aragorn lead the World of Men agai...        94.0   \n",
       "\n",
       "               Director           Star1            Star2          Star3  \\\n",
       "0  Francis Ford Coppola   Marlon Brando        Al Pacino     James Caan   \n",
       "1     Christopher Nolan  Christian Bale     Heath Ledger  Aaron Eckhart   \n",
       "2  Francis Ford Coppola       Al Pacino   Robert De Niro  Robert Duvall   \n",
       "3          Sidney Lumet     Henry Fonda      Lee J. Cobb  Martin Balsam   \n",
       "4         Peter Jackson     Elijah Wood  Viggo Mortensen   Ian McKellen   \n",
       "\n",
       "           Star4  No_of_Votes        Gross  \n",
       "0   Diane Keaton      1620367  134,966,411  \n",
       "1  Michael Caine      2303232  534,858,444  \n",
       "2   Diane Keaton      1129952   57,300,000  \n",
       "3   John Fiedler       689845    4,360,000  \n",
       "4  Orlando Bloom      1642758  377,845,905  "
      ]
     },
     "execution_count": 37,
     "metadata": {},
     "output_type": "execute_result"
    }
   ],
   "source": [
    "df.head()"
   ]
  },
  {
   "cell_type": "code",
   "execution_count": 38,
   "id": "d236c07d",
   "metadata": {},
   "outputs": [
    {
     "name": "stdout",
     "output_type": "stream",
     "text": [
      "<class 'pandas.core.frame.DataFrame'>\n",
      "RangeIndex: 999 entries, 0 to 998\n",
      "Data columns (total 16 columns):\n",
      " #   Column         Non-Null Count  Dtype  \n",
      "---  ------         --------------  -----  \n",
      " 0   Unnamed: 0     999 non-null    int64  \n",
      " 1   Series_Title   999 non-null    object \n",
      " 2   Released_Year  999 non-null    object \n",
      " 3   Certificate    898 non-null    object \n",
      " 4   Runtime        999 non-null    object \n",
      " 5   Genre          999 non-null    object \n",
      " 6   IMDB_Rating    999 non-null    float64\n",
      " 7   Overview       999 non-null    object \n",
      " 8   Meta_score     842 non-null    float64\n",
      " 9   Director       999 non-null    object \n",
      " 10  Star1          999 non-null    object \n",
      " 11  Star2          999 non-null    object \n",
      " 12  Star3          999 non-null    object \n",
      " 13  Star4          999 non-null    object \n",
      " 14  No_of_Votes    999 non-null    int64  \n",
      " 15  Gross          830 non-null    object \n",
      "dtypes: float64(2), int64(2), object(12)\n",
      "memory usage: 125.0+ KB\n"
     ]
    }
   ],
   "source": [
    "df.info()"
   ]
  },
  {
   "cell_type": "markdown",
   "id": "88d65878",
   "metadata": {},
   "source": [
    "Iniciando tratamento dos dados.\n",
    "- Corrigindo colunas\n",
    "- Corrigindo dados que serão importantes no momento das operações matemáticas"
   ]
  },
  {
   "cell_type": "code",
   "execution_count": 39,
   "id": "b0a92ba4",
   "metadata": {},
   "outputs": [
    {
     "name": "stdout",
     "output_type": "stream",
     "text": [
      "<class 'pandas.core.frame.DataFrame'>\n",
      "RangeIndex: 999 entries, 0 to 998\n",
      "Data columns (total 16 columns):\n",
      " #   Column         Non-Null Count  Dtype  \n",
      "---  ------         --------------  -----  \n",
      " 0   Unnamed: 0     999 non-null    int64  \n",
      " 1   Series_Title   999 non-null    object \n",
      " 2   Released_Year  999 non-null    object \n",
      " 3   Certificate    898 non-null    object \n",
      " 4   Runtime        999 non-null    int64  \n",
      " 5   Genre          999 non-null    object \n",
      " 6   IMDB_Rating    999 non-null    float64\n",
      " 7   Overview       999 non-null    object \n",
      " 8   Meta_score     842 non-null    float64\n",
      " 9   Director       999 non-null    object \n",
      " 10  Star1          999 non-null    object \n",
      " 11  Star2          999 non-null    object \n",
      " 12  Star3          999 non-null    object \n",
      " 13  Star4          999 non-null    object \n",
      " 14  No_of_Votes    999 non-null    int64  \n",
      " 15  Gross          830 non-null    object \n",
      "dtypes: float64(2), int64(3), object(11)\n",
      "memory usage: 125.0+ KB\n"
     ]
    }
   ],
   "source": [
    "df['Runtime'] = df['Runtime'].str.replace(' min', '')#remove min e deixa o espaço vazio\n",
    "df['Runtime'] = pd.to_numeric(df['Runtime'], errors='coerce') #converte a coluna para numérica, caso não consiga, deixa valores nulo\n",
    "\n",
    "df.info()"
   ]
  },
  {
   "cell_type": "code",
   "execution_count": 40,
   "id": "12e504f1",
   "metadata": {},
   "outputs": [
    {
     "name": "stdout",
     "output_type": "stream",
     "text": [
      "<class 'pandas.core.frame.DataFrame'>\n",
      "RangeIndex: 999 entries, 0 to 998\n",
      "Data columns (total 16 columns):\n",
      " #   Column         Non-Null Count  Dtype  \n",
      "---  ------         --------------  -----  \n",
      " 0   Unnamed: 0     999 non-null    int64  \n",
      " 1   Series_Title   999 non-null    object \n",
      " 2   Released_Year  999 non-null    object \n",
      " 3   Certificate    898 non-null    object \n",
      " 4   Runtime        999 non-null    int64  \n",
      " 5   Genre          999 non-null    object \n",
      " 6   IMDB_Rating    999 non-null    float64\n",
      " 7   Overview       999 non-null    object \n",
      " 8   Meta_score     842 non-null    float64\n",
      " 9   Director       999 non-null    object \n",
      " 10  Star1          999 non-null    object \n",
      " 11  Star2          999 non-null    object \n",
      " 12  Star3          999 non-null    object \n",
      " 13  Star4          999 non-null    object \n",
      " 14  No_of_Votes    999 non-null    int64  \n",
      " 15  Gross          830 non-null    float64\n",
      "dtypes: float64(3), int64(3), object(10)\n",
      "memory usage: 125.0+ KB\n"
     ]
    }
   ],
   "source": [
    "df['Gross'] = df['Gross'].str.replace(',', '')\n",
    "df['Gross'] = pd.to_numeric(df['Gross'], errors='coerce')\n",
    "\n",
    "df.info()"
   ]
  },
  {
   "cell_type": "code",
   "execution_count": 41,
   "id": "ca8acd0c",
   "metadata": {},
   "outputs": [
    {
     "data": {
      "text/html": [
       "<div>\n",
       "<style scoped>\n",
       "    .dataframe tbody tr th:only-of-type {\n",
       "        vertical-align: middle;\n",
       "    }\n",
       "\n",
       "    .dataframe tbody tr th {\n",
       "        vertical-align: top;\n",
       "    }\n",
       "\n",
       "    .dataframe thead th {\n",
       "        text-align: right;\n",
       "    }\n",
       "</style>\n",
       "<table border=\"1\" class=\"dataframe\">\n",
       "  <thead>\n",
       "    <tr style=\"text-align: right;\">\n",
       "      <th></th>\n",
       "      <th>Series_Title</th>\n",
       "      <th>Released_Year</th>\n",
       "      <th>Certificate</th>\n",
       "      <th>Runtime</th>\n",
       "      <th>Genre</th>\n",
       "      <th>IMDB_Rating</th>\n",
       "      <th>Overview</th>\n",
       "      <th>Meta_score</th>\n",
       "      <th>Director</th>\n",
       "      <th>Star1</th>\n",
       "      <th>Star2</th>\n",
       "      <th>Star3</th>\n",
       "      <th>Star4</th>\n",
       "      <th>No_of_Votes</th>\n",
       "      <th>Gross</th>\n",
       "    </tr>\n",
       "  </thead>\n",
       "  <tbody>\n",
       "    <tr>\n",
       "      <th>0</th>\n",
       "      <td>The Godfather</td>\n",
       "      <td>1972</td>\n",
       "      <td>A</td>\n",
       "      <td>175</td>\n",
       "      <td>Crime, Drama</td>\n",
       "      <td>9.2</td>\n",
       "      <td>An organized crime dynasty's aging patriarch t...</td>\n",
       "      <td>100.0</td>\n",
       "      <td>Francis Ford Coppola</td>\n",
       "      <td>Marlon Brando</td>\n",
       "      <td>Al Pacino</td>\n",
       "      <td>James Caan</td>\n",
       "      <td>Diane Keaton</td>\n",
       "      <td>1620367</td>\n",
       "      <td>134966411.0</td>\n",
       "    </tr>\n",
       "    <tr>\n",
       "      <th>1</th>\n",
       "      <td>The Dark Knight</td>\n",
       "      <td>2008</td>\n",
       "      <td>UA</td>\n",
       "      <td>152</td>\n",
       "      <td>Action, Crime, Drama</td>\n",
       "      <td>9.0</td>\n",
       "      <td>When the menace known as the Joker wreaks havo...</td>\n",
       "      <td>84.0</td>\n",
       "      <td>Christopher Nolan</td>\n",
       "      <td>Christian Bale</td>\n",
       "      <td>Heath Ledger</td>\n",
       "      <td>Aaron Eckhart</td>\n",
       "      <td>Michael Caine</td>\n",
       "      <td>2303232</td>\n",
       "      <td>534858444.0</td>\n",
       "    </tr>\n",
       "    <tr>\n",
       "      <th>2</th>\n",
       "      <td>The Godfather: Part II</td>\n",
       "      <td>1974</td>\n",
       "      <td>A</td>\n",
       "      <td>202</td>\n",
       "      <td>Crime, Drama</td>\n",
       "      <td>9.0</td>\n",
       "      <td>The early life and career of Vito Corleone in ...</td>\n",
       "      <td>90.0</td>\n",
       "      <td>Francis Ford Coppola</td>\n",
       "      <td>Al Pacino</td>\n",
       "      <td>Robert De Niro</td>\n",
       "      <td>Robert Duvall</td>\n",
       "      <td>Diane Keaton</td>\n",
       "      <td>1129952</td>\n",
       "      <td>57300000.0</td>\n",
       "    </tr>\n",
       "    <tr>\n",
       "      <th>3</th>\n",
       "      <td>12 Angry Men</td>\n",
       "      <td>1957</td>\n",
       "      <td>U</td>\n",
       "      <td>96</td>\n",
       "      <td>Crime, Drama</td>\n",
       "      <td>9.0</td>\n",
       "      <td>A jury holdout attempts to prevent a miscarria...</td>\n",
       "      <td>96.0</td>\n",
       "      <td>Sidney Lumet</td>\n",
       "      <td>Henry Fonda</td>\n",
       "      <td>Lee J. Cobb</td>\n",
       "      <td>Martin Balsam</td>\n",
       "      <td>John Fiedler</td>\n",
       "      <td>689845</td>\n",
       "      <td>4360000.0</td>\n",
       "    </tr>\n",
       "    <tr>\n",
       "      <th>4</th>\n",
       "      <td>The Lord of the Rings: The Return of the King</td>\n",
       "      <td>2003</td>\n",
       "      <td>U</td>\n",
       "      <td>201</td>\n",
       "      <td>Action, Adventure, Drama</td>\n",
       "      <td>8.9</td>\n",
       "      <td>Gandalf and Aragorn lead the World of Men agai...</td>\n",
       "      <td>94.0</td>\n",
       "      <td>Peter Jackson</td>\n",
       "      <td>Elijah Wood</td>\n",
       "      <td>Viggo Mortensen</td>\n",
       "      <td>Ian McKellen</td>\n",
       "      <td>Orlando Bloom</td>\n",
       "      <td>1642758</td>\n",
       "      <td>377845905.0</td>\n",
       "    </tr>\n",
       "  </tbody>\n",
       "</table>\n",
       "</div>"
      ],
      "text/plain": [
       "                                    Series_Title Released_Year Certificate  \\\n",
       "0                                  The Godfather          1972           A   \n",
       "1                                The Dark Knight          2008          UA   \n",
       "2                         The Godfather: Part II          1974           A   \n",
       "3                                   12 Angry Men          1957           U   \n",
       "4  The Lord of the Rings: The Return of the King          2003           U   \n",
       "\n",
       "   Runtime                     Genre  IMDB_Rating  \\\n",
       "0      175              Crime, Drama          9.2   \n",
       "1      152      Action, Crime, Drama          9.0   \n",
       "2      202              Crime, Drama          9.0   \n",
       "3       96              Crime, Drama          9.0   \n",
       "4      201  Action, Adventure, Drama          8.9   \n",
       "\n",
       "                                            Overview  Meta_score  \\\n",
       "0  An organized crime dynasty's aging patriarch t...       100.0   \n",
       "1  When the menace known as the Joker wreaks havo...        84.0   \n",
       "2  The early life and career of Vito Corleone in ...        90.0   \n",
       "3  A jury holdout attempts to prevent a miscarria...        96.0   \n",
       "4  Gandalf and Aragorn lead the World of Men agai...        94.0   \n",
       "\n",
       "               Director           Star1            Star2          Star3  \\\n",
       "0  Francis Ford Coppola   Marlon Brando        Al Pacino     James Caan   \n",
       "1     Christopher Nolan  Christian Bale     Heath Ledger  Aaron Eckhart   \n",
       "2  Francis Ford Coppola       Al Pacino   Robert De Niro  Robert Duvall   \n",
       "3          Sidney Lumet     Henry Fonda      Lee J. Cobb  Martin Balsam   \n",
       "4         Peter Jackson     Elijah Wood  Viggo Mortensen   Ian McKellen   \n",
       "\n",
       "           Star4  No_of_Votes        Gross  \n",
       "0   Diane Keaton      1620367  134966411.0  \n",
       "1  Michael Caine      2303232  534858444.0  \n",
       "2   Diane Keaton      1129952   57300000.0  \n",
       "3   John Fiedler       689845    4360000.0  \n",
       "4  Orlando Bloom      1642758  377845905.0  "
      ]
     },
     "execution_count": 41,
     "metadata": {},
     "output_type": "execute_result"
    }
   ],
   "source": [
    "#vamos remover a colunma Unnamed, pois ela não será utilizada na nossa analise explorária\n",
    "df = df.drop(columns=['Unnamed: 0'])\n",
    "\n",
    "df.head() #verificando se a coluna foi removida"
   ]
  },
  {
   "cell_type": "code",
   "execution_count": 42,
   "id": "a2110293",
   "metadata": {},
   "outputs": [
    {
     "data": {
      "text/plain": [
       "Series_Title       0\n",
       "Released_Year      0\n",
       "Certificate      101\n",
       "Runtime            0\n",
       "Genre              0\n",
       "IMDB_Rating        0\n",
       "Overview           0\n",
       "Meta_score       157\n",
       "Director           0\n",
       "Star1              0\n",
       "Star2              0\n",
       "Star3              0\n",
       "Star4              0\n",
       "No_of_Votes        0\n",
       "Gross            169\n",
       "dtype: int64"
      ]
     },
     "execution_count": 42,
     "metadata": {},
     "output_type": "execute_result"
    }
   ],
   "source": [
    "df.isnull().sum() #verificando quantos valores nulos temos em cada coluna"
   ]
  },
  {
   "cell_type": "code",
   "execution_count": 43,
   "id": "ff237b06",
   "metadata": {},
   "outputs": [
    {
     "name": "stdout",
     "output_type": "stream",
     "text": [
      "valores nulos preenchidos!\n"
     ]
    }
   ],
   "source": [
    "#vamos utilizar a mediana para preencher os valores nulos na coluna Gross e Meta_score\n",
    "df['Gross'] = df['Gross'].fillna(df['Gross'].median())\n",
    "df['Meta_score'] = df['Meta_score'].fillna(df['Meta_score'].median())\n",
    "\n",
    "print('valores nulos preenchidos!')"
   ]
  },
  {
   "cell_type": "code",
   "execution_count": 44,
   "id": "21459422",
   "metadata": {},
   "outputs": [],
   "source": [
    "#agora com a coluna Certificate, vamos utilizar a moda, que são os valores que aparecem com mais frequência\n",
    "df['Certificate'] = df['Certificate'].fillna(df['Certificate'].mode()[0])"
   ]
  },
  {
   "cell_type": "code",
   "execution_count": 45,
   "id": "4ae918f5",
   "metadata": {},
   "outputs": [
    {
     "name": "stdout",
     "output_type": "stream",
     "text": [
      "<class 'pandas.core.frame.DataFrame'>\n",
      "RangeIndex: 999 entries, 0 to 998\n",
      "Data columns (total 15 columns):\n",
      " #   Column         Non-Null Count  Dtype  \n",
      "---  ------         --------------  -----  \n",
      " 0   Series_Title   999 non-null    object \n",
      " 1   Released_Year  999 non-null    object \n",
      " 2   Certificate    999 non-null    object \n",
      " 3   Runtime        999 non-null    int64  \n",
      " 4   Genre          999 non-null    object \n",
      " 5   IMDB_Rating    999 non-null    float64\n",
      " 6   Overview       999 non-null    object \n",
      " 7   Meta_score     999 non-null    float64\n",
      " 8   Director       999 non-null    object \n",
      " 9   Star1          999 non-null    object \n",
      " 10  Star2          999 non-null    object \n",
      " 11  Star3          999 non-null    object \n",
      " 12  Star4          999 non-null    object \n",
      " 13  No_of_Votes    999 non-null    int64  \n",
      " 14  Gross          999 non-null    float64\n",
      "dtypes: float64(3), int64(2), object(10)\n",
      "memory usage: 117.2+ KB\n"
     ]
    }
   ],
   "source": [
    "df.info() #veirificando se ainda temos valores nulos"
   ]
  },
  {
   "cell_type": "markdown",
   "id": "c61a2b0d",
   "metadata": {},
   "source": [
    "Para termos uma boa resposta da primeira pergunta da etapa 2. Antes, vamos analisar o motivo de indicarmos o filmes."
   ]
  },
  {
   "cell_type": "code",
   "execution_count": 46,
   "id": "f25de1d3",
   "metadata": {},
   "outputs": [
    {
     "data": {
      "image/png": "[encoded data removed]",
      "text/plain": [
       "<Figure size 1200x800 with 2 Axes>"
      ]
     },
     "metadata": {},
     "output_type": "display_data"
    }
   ],
   "source": [
    "#Alternativa B - Análise de Faturamento\n",
    "\n",
    "import matplotlib.pyplot as plt\n",
    "import seaborn as sns\n",
    "\n",
    "matriz_correlacao = df.corr(numeric_only=True)\n",
    "\n",
    "plt.figure(figsize=(12, 8))\n",
    "sns.heatmap(matriz_correlacao, annot=True, cmap='coolwarm', fmt='.2f') #criação do gráfico\n",
    "plt.title('Matriz de Correlação')\n",
    "plt.show()\n",
    "#esse gráfico nos vai dar uma noção de quais colunas tem maior correlação com a coluna Gross, que é a nossa variável alvo."
   ]
  },
  {
   "cell_type": "code",
   "execution_count": 47,
   "id": "80c275d7",
   "metadata": {},
   "outputs": [
    {
     "name": "stdout",
     "output_type": "stream",
     "text": [
      "Genre\n",
      "Family, Sci-Fi                435110554.0\n",
      "Action, Adventure, Fantasy    307269663.5\n",
      "Action, Adventure, Family     301959197.0\n",
      "Adventure, Fantasy            280685211.5\n",
      "Adventure, Thriller           260000000.0\n",
      "Animation, Comedy, Crime      251513985.0\n",
      "Adventure, Family, Fantasy    249358727.0\n",
      "Action, Adventure, Sci-Fi     233921534.0\n",
      "Action, Adventure, Comedy     221660006.5\n",
      "Action, Adventure, Mystery    209028679.0\n",
      "Name: Gross, dtype: float64\n"
     ]
    }
   ],
   "source": [
    "#o número de votos não é a única coluna que estabelece motivos para um bom faturamento, vamos trabalhar com colunas não númericas (gêneros):\n",
    "\n",
    "faturamento_por_genero = df.groupby('Genre')['Gross'].median().sort_values(ascending=False) #agrupa em tabelas e ordena em ordem decrescente\n",
    "print(faturamento_por_genero.head(10))"
   ]
  },
  {
   "cell_type": "code",
   "execution_count": 48,
   "id": "d3c4f154",
   "metadata": {},
   "outputs": [
    {
     "name": "stdout",
     "output_type": "stream",
     "text": [
      "      Series_Title Released_Year Certificate  Runtime   Genre  IMDB_Rating  \\\n",
      "0    The Godfather          1972           A      175   Crime          9.2   \n",
      "0    The Godfather          1972           A      175   Drama          9.2   \n",
      "1  The Dark Knight          2008          UA      152  Action          9.0   \n",
      "1  The Dark Knight          2008          UA      152   Crime          9.0   \n",
      "1  The Dark Knight          2008          UA      152   Drama          9.0   \n",
      "\n",
      "                                            Overview  Meta_score  \\\n",
      "0  An organized crime dynasty's aging patriarch t...       100.0   \n",
      "0  An organized crime dynasty's aging patriarch t...       100.0   \n",
      "1  When the menace known as the Joker wreaks havo...        84.0   \n",
      "1  When the menace known as the Joker wreaks havo...        84.0   \n",
      "1  When the menace known as the Joker wreaks havo...        84.0   \n",
      "\n",
      "               Director           Star1         Star2          Star3  \\\n",
      "0  Francis Ford Coppola   Marlon Brando     Al Pacino     James Caan   \n",
      "0  Francis Ford Coppola   Marlon Brando     Al Pacino     James Caan   \n",
      "1     Christopher Nolan  Christian Bale  Heath Ledger  Aaron Eckhart   \n",
      "1     Christopher Nolan  Christian Bale  Heath Ledger  Aaron Eckhart   \n",
      "1     Christopher Nolan  Christian Bale  Heath Ledger  Aaron Eckhart   \n",
      "\n",
      "           Star4  No_of_Votes        Gross  \n",
      "0   Diane Keaton      1620367  134966411.0  \n",
      "0   Diane Keaton      1620367  134966411.0  \n",
      "1  Michael Caine      2303232  534858444.0  \n",
      "1  Michael Caine      2303232  534858444.0  \n",
      "1  Michael Caine      2303232  534858444.0  \n"
     ]
    }
   ],
   "source": [
    "#criar uma nova cópia do DataFrame para não alterar o original nesta etapa de descobrimos qual genero que gera mais faturamento\n",
    "df_generos = df.copy()\n",
    "\n",
    "df_generos['Genre'] = df_generos['Genre'].str.split(', ')\n",
    "\n",
    "df_generos = df_generos.explode('Genre')\n",
    "\n",
    "print(df_generos.head())"
   ]
  },
  {
   "cell_type": "code",
   "execution_count": 49,
   "id": "8bfe77db",
   "metadata": {},
   "outputs": [
    {
     "name": "stdout",
     "output_type": "stream",
     "text": [
      "Genre\n",
      "Adventure    64898511.00\n",
      "Sci-Fi       57938693.00\n",
      "Action       43000000.00\n",
      "Biography    32572577.00\n",
      "Family       31637200.00\n",
      "History      23494165.75\n",
      "Drama        23457439.50\n",
      "Crime        23457439.50\n",
      "Fantasy      23457439.50\n",
      "Comedy       23457439.50\n",
      "Name: Gross, dtype: float64\n"
     ]
    }
   ],
   "source": [
    "#agora saberemos qual gênero individual gera mais faturamento\n",
    "faturamento_por_genero_individual = df_generos.groupby('Genre')['Gross'].median().sort_values(ascending=False)\n",
    "\n",
    "print(faturamento_por_genero_individual.head(10))"
   ]
  },
  {
   "cell_type": "code",
   "execution_count": 50,
   "id": "a0402ddf",
   "metadata": {},
   "outputs": [
    {
     "data": {
      "image/png": "[encoded data removed]",
      "text/plain": [
       "<Figure size 1200x800 with 1 Axes>"
      ]
     },
     "metadata": {},
     "output_type": "display_data"
    }
   ],
   "source": [
    "plt.figure(figsize=(12, 8))\n",
    "sns.barplot(x=faturamento_por_genero_individual.values, y=faturamento_por_genero_individual.index)\n",
    "\n",
    "plt.title('Faturamento Médio por Gênero Individual')\n",
    "plt.xlabel('Faturamento Médio (Gross)')\n",
    "plt.ylabel('Gênero')\n",
    "plt.show()"
   ]
  },
  {
   "cell_type": "markdown",
   "id": "933effff",
   "metadata": {},
   "source": [
    "# Quais são os principais fatores que estão relacionados com alta expectativa de faturamento de um filme? \n",
    "De acordo com os gráficos, podemos torna claro aa informações de que: O Número de votos, engajamento, é um fator crucial financeiramente. Quanto mais engajamento, mais pessoas vão assistir o filme e consequentemete gera mais lucro.\n",
    "E, não podemos esquecer que o gênero também é um fator importante para que o faturamente do filme ocorra.\n",
    "\n",
    "Em ambas as pesquisas, podemos analisar a correlação"
   ]
  }
 ],
 "metadata": {
  "kernelspec": {
   "display_name": "3.12.5",
   "language": "python",
   "name": "python3"
  },
  "language_info": {
   "codemirror_mode": {
    "name": "ipython",
    "version": 3
   },
   "file_extension": ".py",
   "mimetype": "text/x-python",
   "name": "python",
   "nbconvert_exporter": "python",
   "pygments_lexer": "ipython3",
   "version": "3.12.5"
  }
 },
 "nbformat": 4,
 "nbformat_minor": 5
}
